{
 "cells": [
  {
   "cell_type": "markdown",
   "metadata": {},
   "source": [
    "# VacationPy\n",
    "----\n",
    "\n",
    "#### Note\n",
    "* Keep an eye on your API usage. Use https://developers.google.com/maps/reporting/gmp-reporting as reference for how to monitor your usage and billing.\n",
    "\n",
    "* Instructions have been included for each segment. You do not have to follow them exactly, but they are included to help you think through the steps."
   ]
  },
  {
   "cell_type": "code",
   "execution_count": 1,
   "metadata": {},
   "outputs": [],
   "source": [
    "# Dependencies and Setup\n",
    "import matplotlib.pyplot as plt\n",
    "import pandas as pd\n",
    "import numpy as np\n",
    "import requests\n",
    "import gmaps\n",
    "import os\n",
    "\n",
    "# Import API key\n",
    "from api_keys import g_key"
   ]
  },
  {
   "cell_type": "markdown",
   "metadata": {},
   "source": [
    "### Store Part I results into DataFrame\n",
    "* Load the csv exported in Part I to a DataFrame"
   ]
  },
  {
   "cell_type": "code",
   "execution_count": 2,
   "metadata": {},
   "outputs": [
    {
     "data": {
      "text/html": [
       "<div>\n",
       "<style scoped>\n",
       "    .dataframe tbody tr th:only-of-type {\n",
       "        vertical-align: middle;\n",
       "    }\n",
       "\n",
       "    .dataframe tbody tr th {\n",
       "        vertical-align: top;\n",
       "    }\n",
       "\n",
       "    .dataframe thead th {\n",
       "        text-align: right;\n",
       "    }\n",
       "</style>\n",
       "<table border=\"1\" class=\"dataframe\">\n",
       "  <thead>\n",
       "    <tr style=\"text-align: right;\">\n",
       "      <th></th>\n",
       "      <th>City</th>\n",
       "      <th>Temperature_max</th>\n",
       "      <th>Wind</th>\n",
       "      <th>Humidity</th>\n",
       "      <th>Latitude</th>\n",
       "      <th>Longitude</th>\n",
       "      <th>Cloudiness</th>\n",
       "      <th>Country</th>\n",
       "    </tr>\n",
       "  </thead>\n",
       "  <tbody>\n",
       "    <tr>\n",
       "      <th>0</th>\n",
       "      <td>bambous virieux</td>\n",
       "      <td>25.00</td>\n",
       "      <td>3.60</td>\n",
       "      <td>94</td>\n",
       "      <td>-20.3428</td>\n",
       "      <td>57.7575</td>\n",
       "      <td>75</td>\n",
       "      <td>MU</td>\n",
       "    </tr>\n",
       "    <tr>\n",
       "      <th>1</th>\n",
       "      <td>butaritari</td>\n",
       "      <td>28.16</td>\n",
       "      <td>4.78</td>\n",
       "      <td>76</td>\n",
       "      <td>3.0707</td>\n",
       "      <td>172.7902</td>\n",
       "      <td>82</td>\n",
       "      <td>KI</td>\n",
       "    </tr>\n",
       "    <tr>\n",
       "      <th>2</th>\n",
       "      <td>general pico</td>\n",
       "      <td>12.65</td>\n",
       "      <td>3.48</td>\n",
       "      <td>77</td>\n",
       "      <td>-35.6566</td>\n",
       "      <td>-63.7568</td>\n",
       "      <td>0</td>\n",
       "      <td>AR</td>\n",
       "    </tr>\n",
       "    <tr>\n",
       "      <th>3</th>\n",
       "      <td>champerico</td>\n",
       "      <td>28.00</td>\n",
       "      <td>3.09</td>\n",
       "      <td>78</td>\n",
       "      <td>14.3000</td>\n",
       "      <td>-91.9167</td>\n",
       "      <td>75</td>\n",
       "      <td>GT</td>\n",
       "    </tr>\n",
       "    <tr>\n",
       "      <th>4</th>\n",
       "      <td>komarichi</td>\n",
       "      <td>-1.40</td>\n",
       "      <td>3.23</td>\n",
       "      <td>82</td>\n",
       "      <td>52.4151</td>\n",
       "      <td>34.7905</td>\n",
       "      <td>94</td>\n",
       "      <td>RU</td>\n",
       "    </tr>\n",
       "    <tr>\n",
       "      <th>...</th>\n",
       "      <td>...</td>\n",
       "      <td>...</td>\n",
       "      <td>...</td>\n",
       "      <td>...</td>\n",
       "      <td>...</td>\n",
       "      <td>...</td>\n",
       "      <td>...</td>\n",
       "      <td>...</td>\n",
       "    </tr>\n",
       "    <tr>\n",
       "      <th>584</th>\n",
       "      <td>kamina</td>\n",
       "      <td>18.70</td>\n",
       "      <td>1.25</td>\n",
       "      <td>92</td>\n",
       "      <td>-8.7386</td>\n",
       "      <td>24.9906</td>\n",
       "      <td>100</td>\n",
       "      <td>CD</td>\n",
       "    </tr>\n",
       "    <tr>\n",
       "      <th>585</th>\n",
       "      <td>macas</td>\n",
       "      <td>19.64</td>\n",
       "      <td>0.97</td>\n",
       "      <td>98</td>\n",
       "      <td>-2.3167</td>\n",
       "      <td>-78.1167</td>\n",
       "      <td>100</td>\n",
       "      <td>EC</td>\n",
       "    </tr>\n",
       "    <tr>\n",
       "      <th>586</th>\n",
       "      <td>kokkola</td>\n",
       "      <td>0.56</td>\n",
       "      <td>1.03</td>\n",
       "      <td>93</td>\n",
       "      <td>63.8385</td>\n",
       "      <td>23.1307</td>\n",
       "      <td>0</td>\n",
       "      <td>FI</td>\n",
       "    </tr>\n",
       "    <tr>\n",
       "      <th>587</th>\n",
       "      <td>karaman</td>\n",
       "      <td>7.16</td>\n",
       "      <td>4.77</td>\n",
       "      <td>78</td>\n",
       "      <td>37.0833</td>\n",
       "      <td>33.2500</td>\n",
       "      <td>47</td>\n",
       "      <td>TR</td>\n",
       "    </tr>\n",
       "    <tr>\n",
       "      <th>588</th>\n",
       "      <td>vredendal</td>\n",
       "      <td>16.34</td>\n",
       "      <td>6.30</td>\n",
       "      <td>90</td>\n",
       "      <td>-31.6683</td>\n",
       "      <td>18.5012</td>\n",
       "      <td>61</td>\n",
       "      <td>ZA</td>\n",
       "    </tr>\n",
       "  </tbody>\n",
       "</table>\n",
       "<p>589 rows × 8 columns</p>\n",
       "</div>"
      ],
      "text/plain": [
       "                City  Temperature_max  Wind  Humidity  Latitude  Longitude  \\\n",
       "0    bambous virieux            25.00  3.60        94  -20.3428    57.7575   \n",
       "1         butaritari            28.16  4.78        76    3.0707   172.7902   \n",
       "2       general pico            12.65  3.48        77  -35.6566   -63.7568   \n",
       "3         champerico            28.00  3.09        78   14.3000   -91.9167   \n",
       "4          komarichi            -1.40  3.23        82   52.4151    34.7905   \n",
       "..               ...              ...   ...       ...       ...        ...   \n",
       "584           kamina            18.70  1.25        92   -8.7386    24.9906   \n",
       "585            macas            19.64  0.97        98   -2.3167   -78.1167   \n",
       "586          kokkola             0.56  1.03        93   63.8385    23.1307   \n",
       "587          karaman             7.16  4.77        78   37.0833    33.2500   \n",
       "588        vredendal            16.34  6.30        90  -31.6683    18.5012   \n",
       "\n",
       "     Cloudiness Country  \n",
       "0            75      MU  \n",
       "1            82      KI  \n",
       "2             0      AR  \n",
       "3            75      GT  \n",
       "4            94      RU  \n",
       "..          ...     ...  \n",
       "584         100      CD  \n",
       "585         100      EC  \n",
       "586           0      FI  \n",
       "587          47      TR  \n",
       "588          61      ZA  \n",
       "\n",
       "[589 rows x 8 columns]"
      ]
     },
     "execution_count": 2,
     "metadata": {},
     "output_type": "execute_result"
    }
   ],
   "source": [
    "cities = pd.read_csv('../output_data/cities.csv')\n",
    "cities.drop(['Unnamed: 0'], axis=1,inplace=True)\n",
    "cities"
   ]
  },
  {
   "cell_type": "markdown",
   "metadata": {},
   "source": [
    "### Humidity Heatmap\n",
    "* Configure gmaps.\n",
    "* Use the Lat and Lng as locations and Humidity as the weight.\n",
    "* Add Heatmap layer to map."
   ]
  },
  {
   "cell_type": "code",
   "execution_count": 3,
   "metadata": {},
   "outputs": [
    {
     "data": {
      "text/html": [
       "<div>\n",
       "<style scoped>\n",
       "    .dataframe tbody tr th:only-of-type {\n",
       "        vertical-align: middle;\n",
       "    }\n",
       "\n",
       "    .dataframe tbody tr th {\n",
       "        vertical-align: top;\n",
       "    }\n",
       "\n",
       "    .dataframe thead th {\n",
       "        text-align: right;\n",
       "    }\n",
       "</style>\n",
       "<table border=\"1\" class=\"dataframe\">\n",
       "  <thead>\n",
       "    <tr style=\"text-align: right;\">\n",
       "      <th></th>\n",
       "      <th>City</th>\n",
       "      <th>Temperature_max</th>\n",
       "      <th>Wind</th>\n",
       "      <th>Humidity</th>\n",
       "      <th>Latitude</th>\n",
       "      <th>Longitude</th>\n",
       "      <th>Cloudiness</th>\n",
       "      <th>Country</th>\n",
       "      <th>Temperature_max_F</th>\n",
       "    </tr>\n",
       "  </thead>\n",
       "  <tbody>\n",
       "    <tr>\n",
       "      <th>0</th>\n",
       "      <td>bambous virieux</td>\n",
       "      <td>25.00</td>\n",
       "      <td>3.60</td>\n",
       "      <td>94</td>\n",
       "      <td>-20.3428</td>\n",
       "      <td>57.7575</td>\n",
       "      <td>75</td>\n",
       "      <td>MU</td>\n",
       "      <td>77.000</td>\n",
       "    </tr>\n",
       "    <tr>\n",
       "      <th>1</th>\n",
       "      <td>butaritari</td>\n",
       "      <td>28.16</td>\n",
       "      <td>4.78</td>\n",
       "      <td>76</td>\n",
       "      <td>3.0707</td>\n",
       "      <td>172.7902</td>\n",
       "      <td>82</td>\n",
       "      <td>KI</td>\n",
       "      <td>82.688</td>\n",
       "    </tr>\n",
       "    <tr>\n",
       "      <th>2</th>\n",
       "      <td>general pico</td>\n",
       "      <td>12.65</td>\n",
       "      <td>3.48</td>\n",
       "      <td>77</td>\n",
       "      <td>-35.6566</td>\n",
       "      <td>-63.7568</td>\n",
       "      <td>0</td>\n",
       "      <td>AR</td>\n",
       "      <td>54.770</td>\n",
       "    </tr>\n",
       "    <tr>\n",
       "      <th>3</th>\n",
       "      <td>champerico</td>\n",
       "      <td>28.00</td>\n",
       "      <td>3.09</td>\n",
       "      <td>78</td>\n",
       "      <td>14.3000</td>\n",
       "      <td>-91.9167</td>\n",
       "      <td>75</td>\n",
       "      <td>GT</td>\n",
       "      <td>82.400</td>\n",
       "    </tr>\n",
       "    <tr>\n",
       "      <th>4</th>\n",
       "      <td>komarichi</td>\n",
       "      <td>-1.40</td>\n",
       "      <td>3.23</td>\n",
       "      <td>82</td>\n",
       "      <td>52.4151</td>\n",
       "      <td>34.7905</td>\n",
       "      <td>94</td>\n",
       "      <td>RU</td>\n",
       "      <td>29.480</td>\n",
       "    </tr>\n",
       "  </tbody>\n",
       "</table>\n",
       "</div>"
      ],
      "text/plain": [
       "              City  Temperature_max  Wind  Humidity  Latitude  Longitude  \\\n",
       "0  bambous virieux            25.00  3.60        94  -20.3428    57.7575   \n",
       "1       butaritari            28.16  4.78        76    3.0707   172.7902   \n",
       "2     general pico            12.65  3.48        77  -35.6566   -63.7568   \n",
       "3       champerico            28.00  3.09        78   14.3000   -91.9167   \n",
       "4        komarichi            -1.40  3.23        82   52.4151    34.7905   \n",
       "\n",
       "   Cloudiness Country  Temperature_max_F  \n",
       "0          75      MU             77.000  \n",
       "1          82      KI             82.688  \n",
       "2           0      AR             54.770  \n",
       "3          75      GT             82.400  \n",
       "4          94      RU             29.480  "
      ]
     },
     "execution_count": 3,
     "metadata": {},
     "output_type": "execute_result"
    }
   ],
   "source": [
    "tempf = []\n",
    "for temp in cities['Temperature_max']:\n",
    "    tempf.append(temp * 1.8000+ 32.00)\n",
    "tempf\n",
    "cities['Temperature_max_F'] = tempf\n",
    "cities.head()\n"
   ]
  },
  {
   "cell_type": "code",
   "execution_count": 4,
   "metadata": {},
   "outputs": [],
   "source": [
    "gmaps.configure(api_key=g_key)"
   ]
  },
  {
   "cell_type": "code",
   "execution_count": 5,
   "metadata": {},
   "outputs": [
    {
     "name": "stderr",
     "output_type": "stream",
     "text": [
      "Enabling notebook extension jupyter-gmaps/extension...\n",
      "      - Validating: ok\n"
     ]
    }
   ],
   "source": [
    "!jupyter nbextension enable --py gmaps"
   ]
  },
  {
   "cell_type": "code",
   "execution_count": 6,
   "metadata": {},
   "outputs": [
    {
     "data": {
      "application/vnd.jupyter.widget-view+json": {
       "model_id": "99c05bc5aa4c4ec389a8f9aad605c048",
       "version_major": 2,
       "version_minor": 0
      },
      "text/plain": [
       "Figure(layout=FigureLayout(height='420px'))"
      ]
     },
     "metadata": {},
     "output_type": "display_data"
    }
   ],
   "source": [
    "\n",
    "locations = cities[[\"Latitude\", \"Longitude\"]].astype(float)\n",
    "humid = cities['Humidity'].astype(float)\n",
    "fig = gmaps.figure()\n",
    "\n",
    "heat_layer = gmaps.heatmap_layer(locations, weights=humid, \n",
    "                                 dissipating=False)\n",
    "\n",
    "fig.add_layer(heat_layer)\n",
    "\n",
    "fig"
   ]
  },
  {
   "cell_type": "markdown",
   "metadata": {},
   "source": [
    "### Create new DataFrame fitting weather criteria\n",
    "* Narrow down the cities to fit weather conditions.\n",
    "* Drop any rows will null values."
   ]
  },
  {
   "cell_type": "code",
   "execution_count": 13,
   "metadata": {},
   "outputs": [
    {
     "name": "stderr",
     "output_type": "stream",
     "text": [
      "<ipython-input-13-af5b2b2a4633>:2: SettingWithCopyWarning: \n",
      "A value is trying to be set on a copy of a slice from a DataFrame\n",
      "\n",
      "See the caveats in the documentation: https://pandas.pydata.org/pandas-docs/stable/user_guide/indexing.html#returning-a-view-versus-a-copy\n",
      "  cities_ideal.dropna(inplace=True)\n"
     ]
    },
    {
     "data": {
      "text/plain": [
       "count     14.000000\n",
       "mean      65.642857\n",
       "std       21.062570\n",
       "min       26.000000\n",
       "25%       58.750000\n",
       "50%       72.500000\n",
       "75%       74.000000\n",
       "max      100.000000\n",
       "Name: Humidity, dtype: float64"
      ]
     },
     "execution_count": 13,
     "metadata": {},
     "output_type": "execute_result"
    }
   ],
   "source": [
    "cities_ideal = cities.loc[(cities['Temperature_max_F'] < 80) & (cities['Temperature_max_F'] > 70) & (cities['Wind'] < 10) & (cities['Cloudiness'] == 0)]\n",
    "cities_ideal.dropna(inplace=True)\n",
    "cities_ideal.Humidity.describe()\n"
   ]
  },
  {
   "cell_type": "markdown",
   "metadata": {},
   "source": [
    "### Hotel Map\n",
    "* Store into variable named `hotel_df`.\n",
    "* Add a \"Hotel Name\" column to the DataFrame.\n",
    "* Set parameters to search for hotels with 5000 meters.\n",
    "* Hit the Google Places API for each city's coordinates.\n",
    "* Store the first Hotel result into the DataFrame.\n",
    "* Plot markers on top of the heatmap."
   ]
  },
  {
   "cell_type": "code",
   "execution_count": 14,
   "metadata": {},
   "outputs": [
    {
     "data": {
      "text/plain": [
       "'7VMH+XM Alice Springs, Northern Territory, Australia'"
      ]
     },
     "execution_count": 14,
     "metadata": {},
     "output_type": "execute_result"
    }
   ],
   "source": [
    "target_coordinates = '-23.7000, 133.8833'\n",
    "target_radius = 5000\n",
    "target_search = \"hotel\"\n",
    "params = {\n",
    "\"location\": target_coordinates,\n",
    "\"radius\": target_radius,\n",
    "\"keyword\": target_search,\n",
    "\"key\": g_key\n",
    "}\n",
    "base_url = \"https://maps.googleapis.com/maps/api/place/nearbysearch/json\"\n",
    "response = requests.get(base_url, params=params)\n",
    "hotel_json = response.json()\n",
    "hotel_json[\"results\"][0][\"plus_code\"][\"compound_code\"]"
   ]
  },
  {
   "cell_type": "code",
   "execution_count": 15,
   "metadata": {},
   "outputs": [
    {
     "ename": "NameError",
     "evalue": "name 'lats' is not defined",
     "output_type": "error",
     "traceback": [
      "\u001b[1;31m---------------------------------------------------------------------------\u001b[0m",
      "\u001b[1;31mNameError\u001b[0m                                 Traceback (most recent call last)",
      "\u001b[1;32m<ipython-input-15-3264e2f9e9b6>\u001b[0m in \u001b[0;36m<module>\u001b[1;34m\u001b[0m\n\u001b[1;32m----> 1\u001b[1;33m \u001b[0mlats\u001b[0m\u001b[1;33m.\u001b[0m\u001b[0mappend\u001b[0m\u001b[1;33m(\u001b[0m\u001b[0mhotel_json\u001b[0m\u001b[1;33m[\u001b[0m\u001b[1;34m'results'\u001b[0m\u001b[1;33m]\u001b[0m\u001b[1;33m[\u001b[0m\u001b[1;36m0\u001b[0m\u001b[1;33m]\u001b[0m\u001b[1;33m[\u001b[0m\u001b[1;34m'geometry'\u001b[0m\u001b[1;33m]\u001b[0m\u001b[1;33m[\u001b[0m\u001b[1;34m'location'\u001b[0m\u001b[1;33m]\u001b[0m\u001b[1;33m[\u001b[0m\u001b[1;34m'lat'\u001b[0m\u001b[1;33m]\u001b[0m\u001b[1;33m)\u001b[0m\u001b[1;33m\u001b[0m\u001b[1;33m\u001b[0m\u001b[0m\n\u001b[0m\u001b[0;32m      2\u001b[0m \u001b[0mlngs\u001b[0m\u001b[1;33m.\u001b[0m\u001b[0mappend\u001b[0m\u001b[1;33m(\u001b[0m\u001b[0mhotel_json\u001b[0m\u001b[1;33m[\u001b[0m\u001b[1;34m'results'\u001b[0m\u001b[1;33m]\u001b[0m\u001b[1;33m[\u001b[0m\u001b[1;36m0\u001b[0m\u001b[1;33m]\u001b[0m\u001b[1;33m[\u001b[0m\u001b[1;34m'geometry'\u001b[0m\u001b[1;33m]\u001b[0m\u001b[1;33m[\u001b[0m\u001b[1;34m'location'\u001b[0m\u001b[1;33m]\u001b[0m\u001b[1;33m[\u001b[0m\u001b[1;34m'lng'\u001b[0m\u001b[1;33m]\u001b[0m\u001b[1;33m)\u001b[0m\u001b[1;33m\u001b[0m\u001b[1;33m\u001b[0m\u001b[0m\n\u001b[0;32m      3\u001b[0m \u001b[0mhotels\u001b[0m\u001b[1;33m.\u001b[0m\u001b[0mappend\u001b[0m\u001b[1;33m(\u001b[0m\u001b[0mhotel_json\u001b[0m\u001b[1;33m[\u001b[0m\u001b[1;34m\"results\"\u001b[0m\u001b[1;33m]\u001b[0m\u001b[1;33m[\u001b[0m\u001b[1;36m0\u001b[0m\u001b[1;33m]\u001b[0m\u001b[1;33m[\u001b[0m\u001b[1;34m\"name\"\u001b[0m\u001b[1;33m]\u001b[0m\u001b[1;33m)\u001b[0m\u001b[1;33m\u001b[0m\u001b[1;33m\u001b[0m\u001b[0m\n",
      "\u001b[1;31mNameError\u001b[0m: name 'lats' is not defined"
     ]
    }
   ],
   "source": [
    "    lats.append(hotel_json['results'][0]['geometry']['location']['lat'])\n",
    "    lngs.append(hotel_json['results'][0]['geometry']['location']['lng'])\n",
    "    hotels.append(hotel_json[\"results\"][0][\"name\"])"
   ]
  },
  {
   "cell_type": "code",
   "execution_count": 16,
   "metadata": {},
   "outputs": [
    {
     "name": "stdout",
     "output_type": "stream",
     "text": [
      "No hotel found\n",
      "No hotel found\n"
     ]
    }
   ],
   "source": [
    "hotel_df = pd.DataFrame()\n",
    "hotel_df[[\"Lat\", \"Lng\", 'Hotel Name']] = ''\n",
    "hotels = []\n",
    "lats = []\n",
    "lngs = []\n",
    "cities23 = []\n",
    "country23 = []\n",
    "for index, row in cities_ideal.iterrows():\n",
    "    try:\n",
    "        target_coordinates = f'{row[4]}, {row[5]}'\n",
    "        target_radius = 5000\n",
    "        target_search = \"hotel\"\n",
    "        params = {\n",
    "        \"location\": target_coordinates,\n",
    "        \"radius\": target_radius,\n",
    "        \"keyword\": target_search,\n",
    "        \"key\": g_key\n",
    "        }\n",
    "        base_url = \"https://maps.googleapis.com/maps/api/place/nearbysearch/json\"\n",
    "        response = requests.get(base_url, params=params)\n",
    "        hotel_json = response.json()\n",
    "        lats.append(hotel_json[\"results\"][0][\"geometry\"][\"location\"][\"lat\"])\n",
    "        lngs.append(hotel_json[\"results\"][0][\"geometry\"][\"location\"][\"lng\"])\n",
    "        hotels.append(hotel_json[\"results\"][0][\"name\"]) \n",
    "        cities23.append(row[0])\n",
    "        country23.append(row[7])\n",
    "    except:\n",
    "        print(f'No hotel found')"
   ]
  },
  {
   "cell_type": "code",
   "execution_count": 17,
   "metadata": {},
   "outputs": [
    {
     "data": {
      "text/html": [
       "<div>\n",
       "<style scoped>\n",
       "    .dataframe tbody tr th:only-of-type {\n",
       "        vertical-align: middle;\n",
       "    }\n",
       "\n",
       "    .dataframe tbody tr th {\n",
       "        vertical-align: top;\n",
       "    }\n",
       "\n",
       "    .dataframe thead th {\n",
       "        text-align: right;\n",
       "    }\n",
       "</style>\n",
       "<table border=\"1\" class=\"dataframe\">\n",
       "  <thead>\n",
       "    <tr style=\"text-align: right;\">\n",
       "      <th></th>\n",
       "      <th>Lat</th>\n",
       "      <th>Lng</th>\n",
       "      <th>Hotel Name</th>\n",
       "      <th>City</th>\n",
       "      <th>Country</th>\n",
       "    </tr>\n",
       "  </thead>\n",
       "  <tbody>\n",
       "    <tr>\n",
       "      <th>0</th>\n",
       "      <td>29.945274</td>\n",
       "      <td>40.181156</td>\n",
       "      <td>Raoum Inn Hotel</td>\n",
       "      <td>sakakah</td>\n",
       "      <td>SA</td>\n",
       "    </tr>\n",
       "    <tr>\n",
       "      <th>1</th>\n",
       "      <td>26.545393</td>\n",
       "      <td>-77.049019</td>\n",
       "      <td>Abaco Beach Resort</td>\n",
       "      <td>marsh harbour</td>\n",
       "      <td>BS</td>\n",
       "    </tr>\n",
       "    <tr>\n",
       "      <th>2</th>\n",
       "      <td>24.082330</td>\n",
       "      <td>32.887831</td>\n",
       "      <td>Sofitel Legend Old Cataract Aswan</td>\n",
       "      <td>aswan</td>\n",
       "      <td>EG</td>\n",
       "    </tr>\n",
       "    <tr>\n",
       "      <th>3</th>\n",
       "      <td>-16.373373</td>\n",
       "      <td>-49.491872</td>\n",
       "      <td>Hotel Tarumã</td>\n",
       "      <td>inhumas</td>\n",
       "      <td>BR</td>\n",
       "    </tr>\n",
       "    <tr>\n",
       "      <th>4</th>\n",
       "      <td>14.844358</td>\n",
       "      <td>74.098633</td>\n",
       "      <td>Cintacor Island Resort</td>\n",
       "      <td>karwar</td>\n",
       "      <td>IN</td>\n",
       "    </tr>\n",
       "    <tr>\n",
       "      <th>5</th>\n",
       "      <td>-31.429814</td>\n",
       "      <td>152.916753</td>\n",
       "      <td>ibis Styles Port Macquarie</td>\n",
       "      <td>port macquarie</td>\n",
       "      <td>AU</td>\n",
       "    </tr>\n",
       "    <tr>\n",
       "      <th>6</th>\n",
       "      <td>-10.709754</td>\n",
       "      <td>-48.407689</td>\n",
       "      <td>Vila Real Hotel</td>\n",
       "      <td>porto nacional</td>\n",
       "      <td>BR</td>\n",
       "    </tr>\n",
       "    <tr>\n",
       "      <th>7</th>\n",
       "      <td>-15.863311</td>\n",
       "      <td>-38.875494</td>\n",
       "      <td>Pousada do Diogo</td>\n",
       "      <td>belmonte</td>\n",
       "      <td>BR</td>\n",
       "    </tr>\n",
       "    <tr>\n",
       "      <th>8</th>\n",
       "      <td>26.558308</td>\n",
       "      <td>101.727573</td>\n",
       "      <td>Jinhai New Century Grand Hotel</td>\n",
       "      <td>panzhihua</td>\n",
       "      <td>CN</td>\n",
       "    </tr>\n",
       "    <tr>\n",
       "      <th>9</th>\n",
       "      <td>-34.562229</td>\n",
       "      <td>150.830536</td>\n",
       "      <td>Lakeview Hotel Motel</td>\n",
       "      <td>flinders</td>\n",
       "      <td>AU</td>\n",
       "    </tr>\n",
       "    <tr>\n",
       "      <th>10</th>\n",
       "      <td>21.459551</td>\n",
       "      <td>-71.147430</td>\n",
       "      <td>Osprey Beach Hotel</td>\n",
       "      <td>cockburn town</td>\n",
       "      <td>TC</td>\n",
       "    </tr>\n",
       "    <tr>\n",
       "      <th>11</th>\n",
       "      <td>-12.782349</td>\n",
       "      <td>45.229721</td>\n",
       "      <td>Hotel Maharajah Mayotte</td>\n",
       "      <td>dzaoudzi</td>\n",
       "      <td>YT</td>\n",
       "    </tr>\n",
       "  </tbody>\n",
       "</table>\n",
       "</div>"
      ],
      "text/plain": [
       "          Lat         Lng                         Hotel Name            City  \\\n",
       "0   29.945274   40.181156                    Raoum Inn Hotel         sakakah   \n",
       "1   26.545393  -77.049019                 Abaco Beach Resort   marsh harbour   \n",
       "2   24.082330   32.887831  Sofitel Legend Old Cataract Aswan           aswan   \n",
       "3  -16.373373  -49.491872                       Hotel Tarumã         inhumas   \n",
       "4   14.844358   74.098633             Cintacor Island Resort          karwar   \n",
       "5  -31.429814  152.916753         ibis Styles Port Macquarie  port macquarie   \n",
       "6  -10.709754  -48.407689                    Vila Real Hotel  porto nacional   \n",
       "7  -15.863311  -38.875494                   Pousada do Diogo        belmonte   \n",
       "8   26.558308  101.727573     Jinhai New Century Grand Hotel       panzhihua   \n",
       "9  -34.562229  150.830536               Lakeview Hotel Motel        flinders   \n",
       "10  21.459551  -71.147430                 Osprey Beach Hotel   cockburn town   \n",
       "11 -12.782349   45.229721            Hotel Maharajah Mayotte        dzaoudzi   \n",
       "\n",
       "   Country  \n",
       "0       SA  \n",
       "1       BS  \n",
       "2       EG  \n",
       "3       BR  \n",
       "4       IN  \n",
       "5       AU  \n",
       "6       BR  \n",
       "7       BR  \n",
       "8       CN  \n",
       "9       AU  \n",
       "10      TC  \n",
       "11      YT  "
      ]
     },
     "execution_count": 17,
     "metadata": {},
     "output_type": "execute_result"
    }
   ],
   "source": [
    "hotel_df[\"Hotel Name\"] = hotels    \n",
    "hotel_df[\"Lat\"] = lats  \n",
    "hotel_df[\"Lng\"] = lngs\n",
    "hotel_df['City'] = cities23\n",
    "hotel_df['Country'] = country23\n",
    "hotel_df"
   ]
  },
  {
   "cell_type": "code",
   "execution_count": 18,
   "metadata": {},
   "outputs": [],
   "source": [
    "# NOTE: Do not change any of the code in this cell\n",
    "\n",
    "# Using the template add the hotel marks to the heatmap\n",
    "info_box_template = \"\"\"\n",
    "<dl>\n",
    "<dt>Name</dt><dd>{Hotel Name}</dd>\n",
    "<dt>City</dt><dd>{City}</dd>\n",
    "<dt>Country</dt><dd>{Country}</dd>\n",
    "</dl>\n",
    "\"\"\"\n",
    "# Store the DataFrame Row\n",
    "# NOTE: be sure to update with your DataFrame name\n",
    "hotel_info = [info_box_template.format(**row) for index, row in hotel_df.iterrows()]\n",
    "locations = hotel_df[[\"Lat\", \"Lng\"]]"
   ]
  },
  {
   "cell_type": "code",
   "execution_count": 19,
   "metadata": {},
   "outputs": [
    {
     "data": {
      "application/vnd.jupyter.widget-view+json": {
       "model_id": "99c05bc5aa4c4ec389a8f9aad605c048",
       "version_major": 2,
       "version_minor": 0
      },
      "text/plain": [
       "Figure(layout=FigureLayout(height='420px'))"
      ]
     },
     "metadata": {},
     "output_type": "display_data"
    }
   ],
   "source": [
    "# Add marker layer ontop of heat map\n",
    "\n",
    "\n",
    "markers = gmaps.marker_layer(locations,\n",
    "    info_box_content= hotel_info)\n",
    "fig.add_layer(markers)\n",
    "fig\n",
    "# Display figure\n"
   ]
  },
  {
   "cell_type": "code",
   "execution_count": null,
   "metadata": {},
   "outputs": [],
   "source": []
  }
 ],
 "metadata": {
  "kernelspec": {
   "display_name": "Python 3",
   "language": "python",
   "name": "python3"
  },
  "language_info": {
   "codemirror_mode": {
    "name": "ipython",
    "version": 3
   },
   "file_extension": ".py",
   "mimetype": "text/x-python",
   "name": "python",
   "nbconvert_exporter": "python",
   "pygments_lexer": "ipython3",
   "version": "3.8.5"
  },
  "latex_envs": {
   "LaTeX_envs_menu_present": true,
   "autoclose": false,
   "autocomplete": true,
   "bibliofile": "biblio.bib",
   "cite_by": "apalike",
   "current_citInitial": 1,
   "eqLabelWithNumbers": true,
   "eqNumInitial": 1,
   "hotkeys": {
    "equation": "Ctrl-E",
    "itemize": "Ctrl-I"
   },
   "labels_anchors": false,
   "latex_user_defs": false,
   "report_style_numbering": false,
   "user_envs_cfg": false
  }
 },
 "nbformat": 4,
 "nbformat_minor": 4
}
